{
 "cells": [
  {
   "cell_type": "code",
   "execution_count": 1,
   "metadata": {},
   "outputs": [],
   "source": [
    "import pandas as pd\n",
    "import numpy as np\n",
    "from sklearn.model_selection import train_test_split\n",
    "from sklearn.linear_model import LogisticRegression\n",
    "from sklearn.ensemble import GradientBoostingClassifier, GradientBoostingRegressor\n",
    "from sklearn.ensemble import RandomForestRegressor\n",
    "from sklearn.neural_network import MLPClassifier, MLPRegressor\n",
    "from sklearn.metrics import roc_auc_score, f1_score\n",
    "from sklearn.metrics import root_mean_squared_error, mean_absolute_error\n",
    "from sklearn.preprocessing import StandardScaler"
   ]
  },
  {
   "cell_type": "code",
   "execution_count": 2,
   "metadata": {},
   "outputs": [],
   "source": [
    "df = pd.read_pickle('data_ml.pickle')"
   ]
  },
  {
   "cell_type": "code",
   "execution_count": 3,
   "metadata": {},
   "outputs": [
    {
     "data": {
      "text/html": [
       "<div>\n",
       "<style scoped>\n",
       "    .dataframe tbody tr th:only-of-type {\n",
       "        vertical-align: middle;\n",
       "    }\n",
       "\n",
       "    .dataframe tbody tr th {\n",
       "        vertical-align: top;\n",
       "    }\n",
       "\n",
       "    .dataframe thead th {\n",
       "        text-align: right;\n",
       "    }\n",
       "</style>\n",
       "<table border=\"1\" class=\"dataframe\">\n",
       "  <thead>\n",
       "    <tr style=\"text-align: right;\">\n",
       "      <th></th>\n",
       "      <th>latitude</th>\n",
       "      <th>longitude</th>\n",
       "      <th>eventid</th>\n",
       "      <th>iyear</th>\n",
       "      <th>imonth</th>\n",
       "      <th>iday</th>\n",
       "      <th>extended</th>\n",
       "      <th>country</th>\n",
       "      <th>region</th>\n",
       "      <th>specificity</th>\n",
       "      <th>vicinity</th>\n",
       "      <th>crit1</th>\n",
       "      <th>crit2</th>\n",
       "      <th>crit3</th>\n",
       "      <th>doubtterr</th>\n",
       "      <th>multiple</th>\n",
       "      <th>success</th>\n",
       "      <th>suicide</th>\n",
       "      <th>attacktype1</th>\n",
       "      <th>targtype1</th>\n",
       "      <th>targsubtype1</th>\n",
       "      <th>natlty1</th>\n",
       "      <th>guncertain1</th>\n",
       "      <th>individual</th>\n",
       "      <th>nperpcap</th>\n",
       "      <th>claimed</th>\n",
       "      <th>weaptype1</th>\n",
       "      <th>weapsubtype1</th>\n",
       "      <th>nkill</th>\n",
       "      <th>nkillus</th>\n",
       "      <th>nkillter</th>\n",
       "      <th>nwound</th>\n",
       "      <th>nwoundus</th>\n",
       "      <th>nwoundte</th>\n",
       "      <th>property</th>\n",
       "      <th>propextent</th>\n",
       "      <th>ishostkid</th>\n",
       "      <th>ransom</th>\n",
       "      <th>INT_LOG</th>\n",
       "      <th>INT_IDEO</th>\n",
       "      <th>INT_MISC</th>\n",
       "      <th>INT_ANY</th>\n",
       "    </tr>\n",
       "  </thead>\n",
       "  <tbody>\n",
       "    <tr>\n",
       "      <th>4</th>\n",
       "      <td>37.005105</td>\n",
       "      <td>-89.176269</td>\n",
       "      <td>197001010002</td>\n",
       "      <td>1970</td>\n",
       "      <td>1</td>\n",
       "      <td>1</td>\n",
       "      <td>0</td>\n",
       "      <td>217</td>\n",
       "      <td>1</td>\n",
       "      <td>1.0</td>\n",
       "      <td>0.0</td>\n",
       "      <td>1</td>\n",
       "      <td>1</td>\n",
       "      <td>1</td>\n",
       "      <td>0.0</td>\n",
       "      <td>0.0</td>\n",
       "      <td>1</td>\n",
       "      <td>0</td>\n",
       "      <td>2</td>\n",
       "      <td>3</td>\n",
       "      <td>22.0</td>\n",
       "      <td>217.0</td>\n",
       "      <td>0.0</td>\n",
       "      <td>0</td>\n",
       "      <td>0.127628</td>\n",
       "      <td>0.0</td>\n",
       "      <td>5</td>\n",
       "      <td>5.0</td>\n",
       "      <td>0.0</td>\n",
       "      <td>0.000000</td>\n",
       "      <td>0.000000</td>\n",
       "      <td>0.0</td>\n",
       "      <td>0.000000</td>\n",
       "      <td>0.000000</td>\n",
       "      <td>1.0</td>\n",
       "      <td>3.0</td>\n",
       "      <td>0.0</td>\n",
       "      <td>0.0</td>\n",
       "      <td>0.0</td>\n",
       "      <td>0.0</td>\n",
       "      <td>0.0</td>\n",
       "      <td>0.0</td>\n",
       "    </tr>\n",
       "    <tr>\n",
       "      <th>5</th>\n",
       "      <td>43.468500</td>\n",
       "      <td>-89.744299</td>\n",
       "      <td>197001050001</td>\n",
       "      <td>1970</td>\n",
       "      <td>1</td>\n",
       "      <td>1</td>\n",
       "      <td>0</td>\n",
       "      <td>217</td>\n",
       "      <td>1</td>\n",
       "      <td>1.0</td>\n",
       "      <td>0.0</td>\n",
       "      <td>1</td>\n",
       "      <td>1</td>\n",
       "      <td>0</td>\n",
       "      <td>1.0</td>\n",
       "      <td>0.0</td>\n",
       "      <td>0</td>\n",
       "      <td>0</td>\n",
       "      <td>3</td>\n",
       "      <td>4</td>\n",
       "      <td>27.0</td>\n",
       "      <td>217.0</td>\n",
       "      <td>0.0</td>\n",
       "      <td>0</td>\n",
       "      <td>0.127628</td>\n",
       "      <td>0.0</td>\n",
       "      <td>6</td>\n",
       "      <td>16.0</td>\n",
       "      <td>0.0</td>\n",
       "      <td>0.045981</td>\n",
       "      <td>0.508058</td>\n",
       "      <td>0.0</td>\n",
       "      <td>0.038944</td>\n",
       "      <td>0.107163</td>\n",
       "      <td>0.0</td>\n",
       "      <td>3.0</td>\n",
       "      <td>0.0</td>\n",
       "      <td>0.0</td>\n",
       "      <td>0.0</td>\n",
       "      <td>0.0</td>\n",
       "      <td>0.0</td>\n",
       "      <td>0.0</td>\n",
       "    </tr>\n",
       "    <tr>\n",
       "      <th>6</th>\n",
       "      <td>-34.891151</td>\n",
       "      <td>-56.187214</td>\n",
       "      <td>197001020001</td>\n",
       "      <td>1970</td>\n",
       "      <td>1</td>\n",
       "      <td>2</td>\n",
       "      <td>0</td>\n",
       "      <td>218</td>\n",
       "      <td>3</td>\n",
       "      <td>1.0</td>\n",
       "      <td>0.0</td>\n",
       "      <td>1</td>\n",
       "      <td>1</td>\n",
       "      <td>1</td>\n",
       "      <td>0.0</td>\n",
       "      <td>0.0</td>\n",
       "      <td>0</td>\n",
       "      <td>0</td>\n",
       "      <td>1</td>\n",
       "      <td>3</td>\n",
       "      <td>25.0</td>\n",
       "      <td>218.0</td>\n",
       "      <td>0.0</td>\n",
       "      <td>0</td>\n",
       "      <td>0.127628</td>\n",
       "      <td>0.0</td>\n",
       "      <td>5</td>\n",
       "      <td>2.0</td>\n",
       "      <td>0.0</td>\n",
       "      <td>0.045981</td>\n",
       "      <td>0.508058</td>\n",
       "      <td>0.0</td>\n",
       "      <td>0.038944</td>\n",
       "      <td>0.107163</td>\n",
       "      <td>0.0</td>\n",
       "      <td>3.0</td>\n",
       "      <td>0.0</td>\n",
       "      <td>0.0</td>\n",
       "      <td>0.0</td>\n",
       "      <td>0.0</td>\n",
       "      <td>0.0</td>\n",
       "      <td>0.0</td>\n",
       "    </tr>\n",
       "    <tr>\n",
       "      <th>7</th>\n",
       "      <td>37.791927</td>\n",
       "      <td>-122.225906</td>\n",
       "      <td>197001020002</td>\n",
       "      <td>1970</td>\n",
       "      <td>1</td>\n",
       "      <td>2</td>\n",
       "      <td>0</td>\n",
       "      <td>217</td>\n",
       "      <td>1</td>\n",
       "      <td>1.0</td>\n",
       "      <td>0.0</td>\n",
       "      <td>1</td>\n",
       "      <td>1</td>\n",
       "      <td>1</td>\n",
       "      <td>1.0</td>\n",
       "      <td>0.0</td>\n",
       "      <td>1</td>\n",
       "      <td>0</td>\n",
       "      <td>3</td>\n",
       "      <td>21</td>\n",
       "      <td>107.0</td>\n",
       "      <td>217.0</td>\n",
       "      <td>0.0</td>\n",
       "      <td>0</td>\n",
       "      <td>0.127628</td>\n",
       "      <td>0.0</td>\n",
       "      <td>6</td>\n",
       "      <td>16.0</td>\n",
       "      <td>0.0</td>\n",
       "      <td>0.000000</td>\n",
       "      <td>0.000000</td>\n",
       "      <td>0.0</td>\n",
       "      <td>0.000000</td>\n",
       "      <td>0.000000</td>\n",
       "      <td>1.0</td>\n",
       "      <td>3.0</td>\n",
       "      <td>0.0</td>\n",
       "      <td>0.0</td>\n",
       "      <td>0.0</td>\n",
       "      <td>0.0</td>\n",
       "      <td>0.0</td>\n",
       "      <td>0.0</td>\n",
       "    </tr>\n",
       "    <tr>\n",
       "      <th>8</th>\n",
       "      <td>43.076592</td>\n",
       "      <td>-89.412488</td>\n",
       "      <td>197001020003</td>\n",
       "      <td>1970</td>\n",
       "      <td>1</td>\n",
       "      <td>2</td>\n",
       "      <td>0</td>\n",
       "      <td>217</td>\n",
       "      <td>1</td>\n",
       "      <td>1.0</td>\n",
       "      <td>0.0</td>\n",
       "      <td>1</td>\n",
       "      <td>1</td>\n",
       "      <td>1</td>\n",
       "      <td>0.0</td>\n",
       "      <td>0.0</td>\n",
       "      <td>1</td>\n",
       "      <td>0</td>\n",
       "      <td>7</td>\n",
       "      <td>4</td>\n",
       "      <td>28.0</td>\n",
       "      <td>217.0</td>\n",
       "      <td>0.0</td>\n",
       "      <td>0</td>\n",
       "      <td>1.000000</td>\n",
       "      <td>1.0</td>\n",
       "      <td>8</td>\n",
       "      <td>19.0</td>\n",
       "      <td>0.0</td>\n",
       "      <td>0.000000</td>\n",
       "      <td>0.000000</td>\n",
       "      <td>0.0</td>\n",
       "      <td>0.000000</td>\n",
       "      <td>0.000000</td>\n",
       "      <td>1.0</td>\n",
       "      <td>3.0</td>\n",
       "      <td>0.0</td>\n",
       "      <td>0.0</td>\n",
       "      <td>0.0</td>\n",
       "      <td>0.0</td>\n",
       "      <td>0.0</td>\n",
       "      <td>0.0</td>\n",
       "    </tr>\n",
       "  </tbody>\n",
       "</table>\n",
       "</div>"
      ],
      "text/plain": [
       "    latitude   longitude       eventid iyear imonth iday extended country  \\\n",
       "4  37.005105  -89.176269  197001010002  1970      1    1        0     217   \n",
       "5  43.468500  -89.744299  197001050001  1970      1    1        0     217   \n",
       "6 -34.891151  -56.187214  197001020001  1970      1    2        0     218   \n",
       "7  37.791927 -122.225906  197001020002  1970      1    2        0     217   \n",
       "8  43.076592  -89.412488  197001020003  1970      1    2        0     217   \n",
       "\n",
       "  region specificity vicinity crit1 crit2 crit3 doubtterr multiple success  \\\n",
       "4      1         1.0      0.0     1     1     1       0.0      0.0       1   \n",
       "5      1         1.0      0.0     1     1     0       1.0      0.0       0   \n",
       "6      3         1.0      0.0     1     1     1       0.0      0.0       0   \n",
       "7      1         1.0      0.0     1     1     1       1.0      0.0       1   \n",
       "8      1         1.0      0.0     1     1     1       0.0      0.0       1   \n",
       "\n",
       "  suicide attacktype1 targtype1 targsubtype1 natlty1 guncertain1 individual  \\\n",
       "4       0           2         3         22.0   217.0         0.0          0   \n",
       "5       0           3         4         27.0   217.0         0.0          0   \n",
       "6       0           1         3         25.0   218.0         0.0          0   \n",
       "7       0           3        21        107.0   217.0         0.0          0   \n",
       "8       0           7         4         28.0   217.0         0.0          0   \n",
       "\n",
       "   nperpcap claimed weaptype1 weapsubtype1  nkill   nkillus  nkillter  nwound  \\\n",
       "4  0.127628     0.0         5          5.0    0.0  0.000000  0.000000     0.0   \n",
       "5  0.127628     0.0         6         16.0    0.0  0.045981  0.508058     0.0   \n",
       "6  0.127628     0.0         5          2.0    0.0  0.045981  0.508058     0.0   \n",
       "7  0.127628     0.0         6         16.0    0.0  0.000000  0.000000     0.0   \n",
       "8  1.000000     1.0         8         19.0    0.0  0.000000  0.000000     0.0   \n",
       "\n",
       "   nwoundus  nwoundte property propextent ishostkid ransom INT_LOG INT_IDEO  \\\n",
       "4  0.000000  0.000000      1.0        3.0       0.0    0.0     0.0      0.0   \n",
       "5  0.038944  0.107163      0.0        3.0       0.0    0.0     0.0      0.0   \n",
       "6  0.038944  0.107163      0.0        3.0       0.0    0.0     0.0      0.0   \n",
       "7  0.000000  0.000000      1.0        3.0       0.0    0.0     0.0      0.0   \n",
       "8  0.000000  0.000000      1.0        3.0       0.0    0.0     0.0      0.0   \n",
       "\n",
       "  INT_MISC INT_ANY  \n",
       "4      0.0     0.0  \n",
       "5      0.0     0.0  \n",
       "6      0.0     0.0  \n",
       "7      0.0     0.0  \n",
       "8      0.0     0.0  "
      ]
     },
     "execution_count": 3,
     "metadata": {},
     "output_type": "execute_result"
    }
   ],
   "source": [
    "# display every column and row\n",
    "pd.set_option('display.max_columns', None)\n",
    "pd.set_option('display.max_rows', None)\n",
    "df.head()"
   ]
  },
  {
   "cell_type": "markdown",
   "metadata": {},
   "source": [
    "# Predict Success (CLassification)"
   ]
  },
  {
   "cell_type": "markdown",
   "metadata": {},
   "source": [
    "#### Use Gradient Boosting to find feature importance"
   ]
  },
  {
   "cell_type": "code",
   "execution_count": 4,
   "metadata": {},
   "outputs": [
    {
     "name": "stdout",
     "output_type": "stream",
     "text": [
      "(144640, 41)\n",
      "(36160, 41)\n"
     ]
    }
   ],
   "source": [
    "# columns\n",
    "success = df[['success']]\n",
    "cols = df.drop(df[['success']], axis=1)\n",
    "# split dataset into earlier and later years\n",
    "X_train, X_test, y_train, y_test = train_test_split(cols, success, train_size=0.8, shuffle=False, random_state=0)\n",
    "print(X_train.shape)\n",
    "print(X_test.shape)"
   ]
  },
  {
   "cell_type": "code",
   "execution_count": 5,
   "metadata": {},
   "outputs": [],
   "source": [
    "gbc = GradientBoostingClassifier().fit(X_train, y_train.values.ravel())"
   ]
  },
  {
   "cell_type": "code",
   "execution_count": 6,
   "metadata": {},
   "outputs": [],
   "source": [
    "y_train_pred = gbc.predict(X_train)\n",
    "y_test_pred = gbc.predict(X_test)"
   ]
  },
  {
   "cell_type": "code",
   "execution_count": 7,
   "metadata": {},
   "outputs": [],
   "source": [
    "# Define function to calculate feature importance\n",
    "def feature_importance(model):\n",
    "    importance = model.feature_importances_\n",
    "    importance = pd.DataFrame(importance, columns=[\"importance\"])\n",
    "    variable = X_train.columns\n",
    "    variable = pd.DataFrame(variable, columns=[\"variable\"])\n",
    "    # feature importance dataframe\n",
    "    f_imp = pd.concat([variable,importance], axis=1)\n",
    "    f_imp = f_imp.sort_values(by=\"importance\", ascending=False)\n",
    "    f_imp = f_imp.reset_index(drop=True)\n",
    "    # get proportion of importance compared to highest variable\n",
    "    top = f_imp['importance'][0]\n",
    "    f_imp['proportion'] = f_imp['importance']/top\n",
    "    return f_imp"
   ]
  },
  {
   "cell_type": "code",
   "execution_count": 8,
   "metadata": {},
   "outputs": [
    {
     "data": {
      "text/html": [
       "<div>\n",
       "<style scoped>\n",
       "    .dataframe tbody tr th:only-of-type {\n",
       "        vertical-align: middle;\n",
       "    }\n",
       "\n",
       "    .dataframe tbody tr th {\n",
       "        vertical-align: top;\n",
       "    }\n",
       "\n",
       "    .dataframe thead th {\n",
       "        text-align: right;\n",
       "    }\n",
       "</style>\n",
       "<table border=\"1\" class=\"dataframe\">\n",
       "  <thead>\n",
       "    <tr style=\"text-align: right;\">\n",
       "      <th></th>\n",
       "      <th>variable</th>\n",
       "      <th>importance</th>\n",
       "      <th>proportion</th>\n",
       "    </tr>\n",
       "  </thead>\n",
       "  <tbody>\n",
       "    <tr>\n",
       "      <th>0</th>\n",
       "      <td>nkill</td>\n",
       "      <td>0.313460</td>\n",
       "      <td>1.000000</td>\n",
       "    </tr>\n",
       "    <tr>\n",
       "      <th>1</th>\n",
       "      <td>attacktype1</td>\n",
       "      <td>0.224970</td>\n",
       "      <td>0.717702</td>\n",
       "    </tr>\n",
       "    <tr>\n",
       "      <th>2</th>\n",
       "      <td>property</td>\n",
       "      <td>0.201331</td>\n",
       "      <td>0.642287</td>\n",
       "    </tr>\n",
       "    <tr>\n",
       "      <th>3</th>\n",
       "      <td>ishostkid</td>\n",
       "      <td>0.086760</td>\n",
       "      <td>0.276781</td>\n",
       "    </tr>\n",
       "    <tr>\n",
       "      <th>4</th>\n",
       "      <td>nwound</td>\n",
       "      <td>0.077139</td>\n",
       "      <td>0.246090</td>\n",
       "    </tr>\n",
       "    <tr>\n",
       "      <th>5</th>\n",
       "      <td>targtype1</td>\n",
       "      <td>0.022763</td>\n",
       "      <td>0.072620</td>\n",
       "    </tr>\n",
       "    <tr>\n",
       "      <th>6</th>\n",
       "      <td>eventid</td>\n",
       "      <td>0.020855</td>\n",
       "      <td>0.066532</td>\n",
       "    </tr>\n",
       "    <tr>\n",
       "      <th>7</th>\n",
       "      <td>nkillter</td>\n",
       "      <td>0.010976</td>\n",
       "      <td>0.035015</td>\n",
       "    </tr>\n",
       "    <tr>\n",
       "      <th>8</th>\n",
       "      <td>weapsubtype1</td>\n",
       "      <td>0.008010</td>\n",
       "      <td>0.025552</td>\n",
       "    </tr>\n",
       "    <tr>\n",
       "      <th>9</th>\n",
       "      <td>latitude</td>\n",
       "      <td>0.007350</td>\n",
       "      <td>0.023447</td>\n",
       "    </tr>\n",
       "    <tr>\n",
       "      <th>10</th>\n",
       "      <td>targsubtype1</td>\n",
       "      <td>0.005097</td>\n",
       "      <td>0.016261</td>\n",
       "    </tr>\n",
       "    <tr>\n",
       "      <th>11</th>\n",
       "      <td>weaptype1</td>\n",
       "      <td>0.004530</td>\n",
       "      <td>0.014453</td>\n",
       "    </tr>\n",
       "    <tr>\n",
       "      <th>12</th>\n",
       "      <td>nkillus</td>\n",
       "      <td>0.002675</td>\n",
       "      <td>0.008532</td>\n",
       "    </tr>\n",
       "    <tr>\n",
       "      <th>13</th>\n",
       "      <td>suicide</td>\n",
       "      <td>0.002265</td>\n",
       "      <td>0.007227</td>\n",
       "    </tr>\n",
       "    <tr>\n",
       "      <th>14</th>\n",
       "      <td>nperpcap</td>\n",
       "      <td>0.001988</td>\n",
       "      <td>0.006342</td>\n",
       "    </tr>\n",
       "    <tr>\n",
       "      <th>15</th>\n",
       "      <td>country</td>\n",
       "      <td>0.001887</td>\n",
       "      <td>0.006019</td>\n",
       "    </tr>\n",
       "  </tbody>\n",
       "</table>\n",
       "</div>"
      ],
      "text/plain": [
       "        variable  importance  proportion\n",
       "0          nkill    0.313460    1.000000\n",
       "1    attacktype1    0.224970    0.717702\n",
       "2       property    0.201331    0.642287\n",
       "3      ishostkid    0.086760    0.276781\n",
       "4         nwound    0.077139    0.246090\n",
       "5      targtype1    0.022763    0.072620\n",
       "6        eventid    0.020855    0.066532\n",
       "7       nkillter    0.010976    0.035015\n",
       "8   weapsubtype1    0.008010    0.025552\n",
       "9       latitude    0.007350    0.023447\n",
       "10  targsubtype1    0.005097    0.016261\n",
       "11     weaptype1    0.004530    0.014453\n",
       "12       nkillus    0.002675    0.008532\n",
       "13       suicide    0.002265    0.007227\n",
       "14      nperpcap    0.001988    0.006342\n",
       "15       country    0.001887    0.006019"
      ]
     },
     "execution_count": 8,
     "metadata": {},
     "output_type": "execute_result"
    }
   ],
   "source": [
    "importance = feature_importance(gbc)\n",
    "importance.head(16)"
   ]
  },
  {
   "cell_type": "markdown",
   "metadata": {},
   "source": [
    "- We won't be using nkill as a predictor since we will be predicting nkill using the predicted success.  \n",
    "- The variables `'nwound'`, `'nkillter'` are related to `'nkill'` and would only be known after the success or failure of the terrorist attack and hence cannot be used to predict success.  \n",
    "- `'eventid'` is not a variable relevant to the terrorist attack and will not be used.  \n",
    "- `'latitude'` and `'longitude'` will be replaced by `'country'` since they are related."
   ]
  },
  {
   "cell_type": "code",
   "execution_count": 9,
   "metadata": {},
   "outputs": [],
   "source": [
    "# select variables\n",
    "select = ['attacktype1','property','ishostkid','targtype1','targsubtype1','weapsubtype1','weaptype1', 'country']"
   ]
  },
  {
   "cell_type": "markdown",
   "metadata": {},
   "source": [
    "### Model 1: Logistic Regression"
   ]
  },
  {
   "cell_type": "code",
   "execution_count": 10,
   "metadata": {},
   "outputs": [
    {
     "name": "stdout",
     "output_type": "stream",
     "text": [
      "(144640, 8)\n",
      "(36160, 8)\n"
     ]
    }
   ],
   "source": [
    "success = df[['success']]   # response\n",
    "var = df[select]            # predictor\n",
    "# split dataset into earlier and later years\n",
    "X_train, X_test, y_train, y_test = train_test_split(var, success, train_size=0.8, shuffle=False, random_state=0)\n",
    "# standardise features\n",
    "scalar = StandardScaler()\n",
    "X_train = scalar.fit_transform(X_train)\n",
    "X_test = scalar.transform(X_test)\n",
    "print(X_train.shape)\n",
    "print(X_test.shape)\n"
   ]
  },
  {
   "cell_type": "code",
   "execution_count": 11,
   "metadata": {},
   "outputs": [],
   "source": [
    "lrc = LogisticRegression().fit(X_train, y_train.values.ravel())"
   ]
  },
  {
   "cell_type": "code",
   "execution_count": 12,
   "metadata": {},
   "outputs": [],
   "source": [
    "y_train_pred = lrc.predict(X_train)\n",
    "y_test_pred = lrc.predict(X_test)"
   ]
  },
  {
   "cell_type": "markdown",
   "metadata": {},
   "source": [
    "#### Accuracy score"
   ]
  },
  {
   "cell_type": "code",
   "execution_count": 13,
   "metadata": {},
   "outputs": [
    {
     "name": "stdout",
     "output_type": "stream",
     "text": [
      "Logistic Regression Score\n",
      "f1 score: 0.748311194374463\n",
      "roc auc : 0.5186245220799799\n"
     ]
    }
   ],
   "source": [
    "print(\"Logistic Regression Score\")\n",
    "print(\"f1 score:\", f1_score(y_test, y_test_pred, average='weighted'))\n",
    "print(\"roc auc :\", roc_auc_score(y_test, y_test_pred))"
   ]
  },
  {
   "cell_type": "markdown",
   "metadata": {},
   "source": [
    "### Model 2: Multi-Layer Perceptron Classifier"
   ]
  },
  {
   "cell_type": "code",
   "execution_count": 14,
   "metadata": {},
   "outputs": [],
   "source": [
    "# split dataset into earlier and later years\n",
    "X_train, X_test, y_train, y_test = train_test_split(var, success, train_size=0.8, shuffle=False, random_state=0)\n",
    "mlpc = MLPClassifier().fit(X_train, y_train.values.ravel())"
   ]
  },
  {
   "cell_type": "code",
   "execution_count": 15,
   "metadata": {},
   "outputs": [],
   "source": [
    "y_train_pred = mlpc.predict(X_train)\n",
    "y_test_pred = mlpc.predict(X_test)"
   ]
  },
  {
   "cell_type": "markdown",
   "metadata": {},
   "source": [
    "#### Accuracy score"
   ]
  },
  {
   "cell_type": "code",
   "execution_count": 16,
   "metadata": {},
   "outputs": [
    {
     "name": "stdout",
     "output_type": "stream",
     "text": [
      "Multi-Layer Perceptron Score\n",
      "f1 score: 0.8392161549650556\n",
      "roc auc : 0.6646513196408674\n"
     ]
    }
   ],
   "source": [
    "print(\"Multi-Layer Perceptron Score\")\n",
    "print(\"f1 score:\", f1_score(y_test, y_test_pred, average='weighted'))\n",
    "print(\"roc auc :\", roc_auc_score(y_test, y_test_pred))"
   ]
  },
  {
   "cell_type": "markdown",
   "metadata": {},
   "source": [
    "### Model 3: Gradient Boosting"
   ]
  },
  {
   "cell_type": "code",
   "execution_count": 17,
   "metadata": {},
   "outputs": [],
   "source": [
    "# train data again with selected features\n",
    "gbc = GradientBoostingClassifier().fit(X_train, y_train.values.ravel())"
   ]
  },
  {
   "cell_type": "code",
   "execution_count": 18,
   "metadata": {},
   "outputs": [],
   "source": [
    "y_train_pred = gbc.predict(X_train)\n",
    "y_test_pred = gbc.predict(X_test)"
   ]
  },
  {
   "cell_type": "markdown",
   "metadata": {},
   "source": [
    "#### Accuracy Score"
   ]
  },
  {
   "cell_type": "code",
   "execution_count": 19,
   "metadata": {},
   "outputs": [
    {
     "name": "stdout",
     "output_type": "stream",
     "text": [
      "Gradient Boosting Score\n",
      "f1 score: 0.8562334645574373\n",
      "roc auc : 0.695139205702856\n"
     ]
    }
   ],
   "source": [
    "print(\"Gradient Boosting Score\")\n",
    "print(\"f1 score:\", f1_score(y_test, y_test_pred, average='weighted'))\n",
    "print(\"roc auc :\", roc_auc_score(y_test, y_test_pred))"
   ]
  },
  {
   "cell_type": "markdown",
   "metadata": {},
   "source": [
    "Gradient Boosting Model predicts success with the highest accuracy"
   ]
  },
  {
   "cell_type": "code",
   "execution_count": 20,
   "metadata": {},
   "outputs": [],
   "source": [
    "# combine predicted test and train as a new column\n",
    "gb_success_pred_train = pd.DataFrame(y_train_pred, index=X_train.index,columns=[\"success_pred\"])\n",
    "gb_success_pred_test = pd.DataFrame(y_test_pred, index=X_test.index,columns=[\"success_pred\"])\n",
    "gb_success_pred = pd.concat([gb_success_pred_train, gb_success_pred_test], axis=0)"
   ]
  },
  {
   "cell_type": "markdown",
   "metadata": {},
   "source": [
    "# Predicting nkill (Using success)"
   ]
  },
  {
   "cell_type": "code",
   "execution_count": 21,
   "metadata": {},
   "outputs": [
    {
     "name": "stdout",
     "output_type": "stream",
     "text": [
      "(144640, 41)\n",
      "(36160, 41)\n"
     ]
    }
   ],
   "source": [
    "nkill = df['nkill']         # target           \n",
    "success = gb_success_pred   # predictor --> previously predicted\n",
    "variables = df.drop(columns=['nkill'])  # predictor\n",
    "variables['success'] = success  # replace actual success data with predicted\n",
    "# split dataset into earlier and later years\n",
    "X_train, X_test, y_train, y_test = train_test_split(variables, nkill, train_size=0.8, shuffle=False, random_state=0)\n",
    "print(X_train.shape)\n",
    "print(X_test.shape)"
   ]
  },
  {
   "cell_type": "markdown",
   "metadata": {},
   "source": [
    "## Get important variables"
   ]
  },
  {
   "cell_type": "code",
   "execution_count": 22,
   "metadata": {},
   "outputs": [],
   "source": [
    "gbr = GradientBoostingRegressor().fit(X_train, y_train.values.ravel())"
   ]
  },
  {
   "cell_type": "code",
   "execution_count": 23,
   "metadata": {},
   "outputs": [
    {
     "data": {
      "text/html": [
       "<div>\n",
       "<style scoped>\n",
       "    .dataframe tbody tr th:only-of-type {\n",
       "        vertical-align: middle;\n",
       "    }\n",
       "\n",
       "    .dataframe tbody tr th {\n",
       "        vertical-align: top;\n",
       "    }\n",
       "\n",
       "    .dataframe thead th {\n",
       "        text-align: right;\n",
       "    }\n",
       "</style>\n",
       "<table border=\"1\" class=\"dataframe\">\n",
       "  <thead>\n",
       "    <tr style=\"text-align: right;\">\n",
       "      <th></th>\n",
       "      <th>variable</th>\n",
       "      <th>importance</th>\n",
       "      <th>proportion</th>\n",
       "    </tr>\n",
       "  </thead>\n",
       "  <tbody>\n",
       "    <tr>\n",
       "      <th>0</th>\n",
       "      <td>nwound</td>\n",
       "      <td>0.375366</td>\n",
       "      <td>1.000000</td>\n",
       "    </tr>\n",
       "    <tr>\n",
       "      <th>1</th>\n",
       "      <td>nkillus</td>\n",
       "      <td>0.278917</td>\n",
       "      <td>0.743053</td>\n",
       "    </tr>\n",
       "    <tr>\n",
       "      <th>2</th>\n",
       "      <td>nkillter</td>\n",
       "      <td>0.191137</td>\n",
       "      <td>0.509202</td>\n",
       "    </tr>\n",
       "    <tr>\n",
       "      <th>3</th>\n",
       "      <td>latitude</td>\n",
       "      <td>0.028796</td>\n",
       "      <td>0.076715</td>\n",
       "    </tr>\n",
       "    <tr>\n",
       "      <th>4</th>\n",
       "      <td>weapsubtype1</td>\n",
       "      <td>0.019280</td>\n",
       "      <td>0.051364</td>\n",
       "    </tr>\n",
       "    <tr>\n",
       "      <th>5</th>\n",
       "      <td>region</td>\n",
       "      <td>0.014866</td>\n",
       "      <td>0.039604</td>\n",
       "    </tr>\n",
       "    <tr>\n",
       "      <th>6</th>\n",
       "      <td>ishostkid</td>\n",
       "      <td>0.014790</td>\n",
       "      <td>0.039402</td>\n",
       "    </tr>\n",
       "    <tr>\n",
       "      <th>7</th>\n",
       "      <td>targtype1</td>\n",
       "      <td>0.011369</td>\n",
       "      <td>0.030287</td>\n",
       "    </tr>\n",
       "    <tr>\n",
       "      <th>8</th>\n",
       "      <td>attacktype1</td>\n",
       "      <td>0.009640</td>\n",
       "      <td>0.025681</td>\n",
       "    </tr>\n",
       "    <tr>\n",
       "      <th>9</th>\n",
       "      <td>eventid</td>\n",
       "      <td>0.006830</td>\n",
       "      <td>0.018194</td>\n",
       "    </tr>\n",
       "    <tr>\n",
       "      <th>10</th>\n",
       "      <td>iday</td>\n",
       "      <td>0.005614</td>\n",
       "      <td>0.014955</td>\n",
       "    </tr>\n",
       "    <tr>\n",
       "      <th>11</th>\n",
       "      <td>natlty1</td>\n",
       "      <td>0.005308</td>\n",
       "      <td>0.014141</td>\n",
       "    </tr>\n",
       "    <tr>\n",
       "      <th>12</th>\n",
       "      <td>nwoundte</td>\n",
       "      <td>0.005192</td>\n",
       "      <td>0.013832</td>\n",
       "    </tr>\n",
       "    <tr>\n",
       "      <th>13</th>\n",
       "      <td>suicide</td>\n",
       "      <td>0.004351</td>\n",
       "      <td>0.011591</td>\n",
       "    </tr>\n",
       "    <tr>\n",
       "      <th>14</th>\n",
       "      <td>targsubtype1</td>\n",
       "      <td>0.004318</td>\n",
       "      <td>0.011503</td>\n",
       "    </tr>\n",
       "  </tbody>\n",
       "</table>\n",
       "</div>"
      ],
      "text/plain": [
       "        variable  importance  proportion\n",
       "0         nwound    0.375366    1.000000\n",
       "1        nkillus    0.278917    0.743053\n",
       "2       nkillter    0.191137    0.509202\n",
       "3       latitude    0.028796    0.076715\n",
       "4   weapsubtype1    0.019280    0.051364\n",
       "5         region    0.014866    0.039604\n",
       "6      ishostkid    0.014790    0.039402\n",
       "7      targtype1    0.011369    0.030287\n",
       "8    attacktype1    0.009640    0.025681\n",
       "9        eventid    0.006830    0.018194\n",
       "10          iday    0.005614    0.014955\n",
       "11       natlty1    0.005308    0.014141\n",
       "12      nwoundte    0.005192    0.013832\n",
       "13       suicide    0.004351    0.011591\n",
       "14  targsubtype1    0.004318    0.011503"
      ]
     },
     "execution_count": 23,
     "metadata": {},
     "output_type": "execute_result"
    }
   ],
   "source": [
    "importance = feature_importance(gbr)\n",
    "importance.head(15)"
   ]
  },
  {
   "cell_type": "markdown",
   "metadata": {},
   "source": [
    "- The variables `'nwound'`, `'nkillter'`, `'nkillus'` and `'nwoundte'` are related to `'nkill'` and would only be known after the success or failure of the terrorist attack and hence cannot be used to predict success.  \n",
    "- `'eventid'` is not a variable relevant to the terrorist attack and will not be used.  \n",
    "- `'latitude'` will be replaced by `'region'` since they are related."
   ]
  },
  {
   "cell_type": "code",
   "execution_count": 24,
   "metadata": {},
   "outputs": [],
   "source": [
    "# select variables\n",
    "select = ['weapsubtype1','region','ishostkid','attacktype1','targtype1', 'natlty1', 'targsubtype1']"
   ]
  },
  {
   "cell_type": "markdown",
   "metadata": {},
   "source": [
    "## Predicting without success"
   ]
  },
  {
   "cell_type": "code",
   "execution_count": 26,
   "metadata": {},
   "outputs": [
    {
     "name": "stdout",
     "output_type": "stream",
     "text": [
      "(144640, 7)\n",
      "(36160, 7)\n"
     ]
    }
   ],
   "source": [
    "nkill = df['nkill']       # target           \n",
    "variables = df[select]    # predictor\n",
    "# split dataset into earlier and later years\n",
    "X_train, X_test, y_train, y_test = train_test_split(variables, nkill, train_size=0.8, shuffle=False, random_state=0)\n",
    "print(X_train.shape)\n",
    "print(X_test.shape)"
   ]
  },
  {
   "cell_type": "markdown",
   "metadata": {},
   "source": [
    "### Model 1: Random Forest Regressor"
   ]
  },
  {
   "cell_type": "code",
   "execution_count": 27,
   "metadata": {},
   "outputs": [],
   "source": [
    "rfr = RandomForestRegressor(max_depth=4, random_state=0).fit(X_train, y_train.values.ravel())"
   ]
  },
  {
   "cell_type": "markdown",
   "metadata": {},
   "source": [
    "#### Accuracy Score"
   ]
  },
  {
   "cell_type": "code",
   "execution_count": 28,
   "metadata": {},
   "outputs": [
    {
     "name": "stdout",
     "output_type": "stream",
     "text": [
      "RMSE\t: 9.46121824699501\n",
      "MAE\t: 2.934179956834248\n"
     ]
    }
   ],
   "source": [
    "y_test_pred = rfr.predict(X_test)\n",
    "print(f\"RMSE\\t:\", root_mean_squared_error(y_test, y_test_pred))\n",
    "print(f\"MAE\\t:\", mean_absolute_error(y_test, y_test_pred))"
   ]
  },
  {
   "cell_type": "markdown",
   "metadata": {},
   "source": [
    "### Model 2: Gradient Boosting Regressor"
   ]
  },
  {
   "cell_type": "code",
   "execution_count": 29,
   "metadata": {},
   "outputs": [],
   "source": [
    "gbr = GradientBoostingRegressor().fit(X_train, y_train.values.ravel())"
   ]
  },
  {
   "cell_type": "markdown",
   "metadata": {},
   "source": [
    "### Accuracy Score"
   ]
  },
  {
   "cell_type": "code",
   "execution_count": 30,
   "metadata": {},
   "outputs": [
    {
     "name": "stdout",
     "output_type": "stream",
     "text": [
      "Gradient Boosting Score\n",
      "RMSE\t: 9.466076213998495\n",
      "MAE\t: 3.044484173799251\n"
     ]
    }
   ],
   "source": [
    "y_test_pred = gbr.predict(X_test)\n",
    "print(\"Gradient Boosting Score\")\n",
    "print(f\"RMSE\\t:\", root_mean_squared_error(y_test, y_test_pred))\n",
    "print(f\"MAE\\t:\", mean_absolute_error(y_test, y_test_pred))"
   ]
  },
  {
   "cell_type": "markdown",
   "metadata": {},
   "source": [
    "### Model 3: Multi-Layer Perceptron Regressor"
   ]
  },
  {
   "cell_type": "code",
   "execution_count": 31,
   "metadata": {},
   "outputs": [],
   "source": [
    "mlpr = MLPRegressor(max_iter=500).fit(X_train, y_train.values.ravel())"
   ]
  },
  {
   "cell_type": "markdown",
   "metadata": {},
   "source": [
    "#### Accuracy Score"
   ]
  },
  {
   "cell_type": "code",
   "execution_count": 32,
   "metadata": {},
   "outputs": [
    {
     "name": "stdout",
     "output_type": "stream",
     "text": [
      "Multi-Layer Perceptron Score\n",
      "RMSE\t: 9.577652837955348\n",
      "MAE\t: 3.0230113767793463\n"
     ]
    }
   ],
   "source": [
    "y_test_pred = mlpr.predict(X_test)\n",
    "print(\"Multi-Layer Perceptron Score\")\n",
    "print(f\"RMSE\\t:\", root_mean_squared_error(y_test, y_test_pred))\n",
    "print(f\"MAE\\t:\", mean_absolute_error(y_test, y_test_pred))"
   ]
  },
  {
   "cell_type": "markdown",
   "metadata": {},
   "source": [
    "Random Forest Regressor model has the highest accuracy"
   ]
  },
  {
   "cell_type": "code",
   "execution_count": 33,
   "metadata": {},
   "outputs": [
    {
     "name": "stdout",
     "output_type": "stream",
     "text": [
      "(144640, 8)\n",
      "(36160, 8)\n"
     ]
    }
   ],
   "source": [
    "variables = pd.concat([variables,success],axis=1)\n",
    "# split dataset into earlier and later years\n",
    "X_train, X_test, y_train, y_test = train_test_split(variables, nkill, train_size=0.8, shuffle=False)\n",
    "print(X_train.shape)\n",
    "print(X_test.shape)"
   ]
  },
  {
   "cell_type": "markdown",
   "metadata": {},
   "source": [
    "## Predicting with success"
   ]
  },
  {
   "cell_type": "code",
   "execution_count": 34,
   "metadata": {},
   "outputs": [],
   "source": [
    "rfr = RandomForestRegressor().fit(X_train, y_train.values.ravel())"
   ]
  },
  {
   "cell_type": "code",
   "execution_count": 36,
   "metadata": {},
   "outputs": [
    {
     "name": "stdout",
     "output_type": "stream",
     "text": [
      "Gradient Boosting Score\n",
      "RMSE\t: 9.409707970721563\n",
      "MAE\t: 2.9879960827213354\n"
     ]
    }
   ],
   "source": [
    "y_test_pred = rfr.predict(X_test)\n",
    "print(\"Ranfom Forest Score\")\n",
    "print(f\"RMSE\\t:\", root_mean_squared_error(y_test, y_test_pred))\n",
    "print(f\"MAE\\t:\", mean_absolute_error(y_test, y_test_pred))"
   ]
  },
  {
   "cell_type": "markdown",
   "metadata": {},
   "source": [
    "Adding success as a predictor slightly improves accuracy of prediction of nkill "
   ]
  }
 ],
 "metadata": {
  "kernelspec": {
   "display_name": "Python 3 (ipykernel)",
   "language": "python",
   "name": "python3"
  },
  "language_info": {
   "codemirror_mode": {
    "name": "ipython",
    "version": 3
   },
   "file_extension": ".py",
   "mimetype": "text/x-python",
   "name": "python",
   "nbconvert_exporter": "python",
   "pygments_lexer": "ipython3",
   "version": "3.12.1"
  }
 },
 "nbformat": 4,
 "nbformat_minor": 2
}
